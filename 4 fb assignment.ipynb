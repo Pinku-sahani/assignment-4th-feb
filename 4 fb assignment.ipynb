{
 "cells": [
  {
   "cell_type": "markdown",
   "id": "9b111b25-6f79-4e7e-b2b9-da6cf6d0cba5",
   "metadata": {},
   "source": [
    "# # Q1. Create a python program to sort the given list of tuples based on integer value using a\n",
    "# # lambda function.\n",
    "# [('Sachin Tendulkar', 34357), ('Ricky Ponting', 27483), ('Jack Kallis', 25534), ('Virat Kohli', 24936)]"
   ]
  },
  {
   "cell_type": "code",
   "execution_count": 10,
   "id": "3a1635a3-5ffa-4e39-8b1c-5d98074062cb",
   "metadata": {},
   "outputs": [],
   "source": [
    "l = [('Sachin Tendulkar', 34357), ('Ricky Ponting', 27483), ('Jack Kallis', 25534), ('Virat Kohli', 24936)]\n"
   ]
  },
  {
   "cell_type": "code",
   "execution_count": null,
   "id": "85208e7f-c190-4c8f-a92e-2f3e82985118",
   "metadata": {},
   "outputs": [],
   "source": [
    "lambda l:\n"
   ]
  },
  {
   "cell_type": "code",
   "execution_count": 11,
   "id": "40018ee4-76a9-4a79-a799-e074dc945d31",
   "metadata": {},
   "outputs": [
    {
     "data": {
      "text/plain": [
       "[('Sachin Tendulkar', 34357),\n",
       " ('Ricky Ponting', 27483),\n",
       " ('Jack Kallis', 25534),\n",
       " ('Virat Kohli', 24936)]"
      ]
     },
     "execution_count": 11,
     "metadata": {},
     "output_type": "execute_result"
    }
   ],
   "source": [
    "l"
   ]
  },
  {
   "cell_type": "markdown",
   "id": "36d14fdc-dfd1-468c-8b7d-44d0452991d8",
   "metadata": {},
   "source": [
    "# Q2. Write a Python Program to find the squares of all the numbers in the given list of integers using\n",
    "# lambda and map functions.\n",
    "# [1, 2, 3, 4, 5, 6, 7, 8, 9, 10]"
   ]
  },
  {
   "cell_type": "code",
   "execution_count": 18,
   "id": "25eb9805-48d1-450e-84d7-4f73018c4ebb",
   "metadata": {},
   "outputs": [],
   "source": [
    "l=[1, 2, 3, 4, 5, 6, 7, 8, 9, 10]\n",
    "def s(x):\n",
    "    return x**2"
   ]
  },
  {
   "cell_type": "code",
   "execution_count": 19,
   "id": "918210fb-6003-498d-92f1-8a35004450ba",
   "metadata": {},
   "outputs": [
    {
     "data": {
      "text/plain": [
       "[1, 4, 9, 16, 25, 36, 49, 64, 81, 100]"
      ]
     },
     "execution_count": 19,
     "metadata": {},
     "output_type": "execute_result"
    }
   ],
   "source": [
    "list(map(s,l))"
   ]
  },
  {
   "cell_type": "markdown",
   "id": "5ccfda5a-af52-4f97-94ab-2519c5cc766f",
   "metadata": {},
   "source": [
    "# Q3. Write a python program to convert the given list of integers into a tuple of strings. Use map and\n",
    "# lambda functions\n",
    "# Given String: [1, 2, 3, 4, 5, 6, 7, 8, 9, 10]\n",
    "# Expected output: ('1', '2', '3', '4', '5', '6', '7', '8', '9', '10')"
   ]
  },
  {
   "cell_type": "code",
   "execution_count": 26,
   "id": "72956fae-19da-4546-bcf8-1c6d49b35d2c",
   "metadata": {},
   "outputs": [
    {
     "data": {
      "text/plain": [
       "'<map object at 0x7f12dc3556c0>'"
      ]
     },
     "execution_count": 26,
     "metadata": {},
     "output_type": "execute_result"
    }
   ],
   "source": [
    "l = [1, 2, 3, 4, 5, 6,7,8,9,10]\n",
    "\n",
    "str(map(lambda l:l.str(),l))"
   ]
  },
  {
   "cell_type": "code",
   "execution_count": 27,
   "id": "760c868c-e3ab-4d3a-af2e-68b6fed419d5",
   "metadata": {},
   "outputs": [
    {
     "data": {
      "text/plain": [
       "[1, 2, 3, 4, 5, 6, 7, 8, 9, 10]"
      ]
     },
     "execution_count": 27,
     "metadata": {},
     "output_type": "execute_result"
    }
   ],
   "source": [
    "l"
   ]
  },
  {
   "cell_type": "markdown",
   "id": "1141d031-38d4-411a-9542-8a46401a1fbc",
   "metadata": {},
   "source": [
    "# Q4. Write a python program using reduce function to compute the product of a list containing numbers\n",
    "# from 1 to 25."
   ]
  },
  {
   "cell_type": "code",
   "execution_count": 33,
   "id": "ccdff196-907c-44be-b411-925d608102f6",
   "metadata": {},
   "outputs": [],
   "source": [
    "from functools import reduce\n",
    "l = [1,2,3,4,5,6,7,8,9,10,11,12,13,14,15,16,17,18,191,20,21,22,23,24,25]\n"
   ]
  },
  {
   "cell_type": "code",
   "execution_count": 38,
   "id": "d884d2c1-5352-4d71-a8ca-844f8c4dccc2",
   "metadata": {},
   "outputs": [
    {
     "data": {
      "text/plain": [
       "155928479909274648576000000"
      ]
     },
     "execution_count": 38,
     "metadata": {},
     "output_type": "execute_result"
    }
   ],
   "source": [
    "reduce(lambda x , y : x * y  , l )"
   ]
  },
  {
   "cell_type": "markdown",
   "id": "cf4dd006-e64a-4b11-85dc-b37fd3022d91",
   "metadata": {},
   "source": [
    "# Q5. Write a python program to filter the numbers in a given list that are divisible by 2 and 3 using the\n",
    "# filter function.\n",
    "# [2, 3, 6, 9, 27, 60, 90, 120, 55, 46]"
   ]
  },
  {
   "cell_type": "code",
   "execution_count": 44,
   "id": "4e6c1fb8-d112-4d28-aa4c-2600a299fbc2",
   "metadata": {},
   "outputs": [],
   "source": [
    "l = [2, 3, 6, 9, 27, 60, 90, 120, 55, 46]\n",
    "l1 = []"
   ]
  },
  {
   "cell_type": "code",
   "execution_count": 51,
   "id": "336cf443-d01d-4f34-84d3-950eb9bd0729",
   "metadata": {},
   "outputs": [
    {
     "data": {
      "text/plain": [
       "[3, 6, 9, 27, 60, 90, 120]"
      ]
     },
     "execution_count": 51,
     "metadata": {},
     "output_type": "execute_result"
    }
   ],
   "source": [
    "list(filter(lambda x : x % 2 == 0, l))\n",
    "list(filter(lambda x : x % 3 == 0, l))\n"
   ]
  },
  {
   "cell_type": "markdown",
   "id": "d4bface7-1bae-4443-9159-05b9d95ee469",
   "metadata": {},
   "source": [
    "# Q6. Write a python program to find palindromes in the given list of strings using lambda and filter\n",
    "# function.\n",
    "# ['python', 'php', 'aba', 'radar', 'level']"
   ]
  },
  {
   "cell_type": "code",
   "execution_count": 53,
   "id": "e45ba2de-bed0-4569-bf9c-d37a7119359b",
   "metadata": {},
   "outputs": [],
   "source": [
    "l = ['python', 'php', 'aba', 'radar', 'level']\n"
   ]
  },
  {
   "cell_type": "code",
   "execution_count": 77,
   "id": "7a0279cc-e942-4912-be99-ff273c05e27a",
   "metadata": {},
   "outputs": [],
   "source": [
    "palindrome=lambda word: word == word[::-1,l]\n"
   ]
  },
  {
   "cell_type": "code",
   "execution_count": null,
   "id": "75b4ffdf-8e89-4852-968b-6627e6ed1d7f",
   "metadata": {},
   "outputs": [],
   "source": []
  },
  {
   "cell_type": "code",
   "execution_count": null,
   "id": "ea4a475e-feaf-4088-9632-fb8ecb96e12c",
   "metadata": {},
   "outputs": [],
   "source": []
  }
 ],
 "metadata": {
  "kernelspec": {
   "display_name": "Python 3 (ipykernel)",
   "language": "python",
   "name": "python3"
  },
  "language_info": {
   "codemirror_mode": {
    "name": "ipython",
    "version": 3
   },
   "file_extension": ".py",
   "mimetype": "text/x-python",
   "name": "python",
   "nbconvert_exporter": "python",
   "pygments_lexer": "ipython3",
   "version": "3.10.8"
  }
 },
 "nbformat": 4,
 "nbformat_minor": 5
}
